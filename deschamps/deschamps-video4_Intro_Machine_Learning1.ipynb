{
 "cells": [
  {
   "cell_type": "code",
   "execution_count": 1,
   "id": "3128b7e2",
   "metadata": {},
   "outputs": [],
   "source": [
    "# pelo longo?\n",
    "# perna curta?\n",
    "# faz auau?\n",
    "\n",
    "animal1 = [0,1,0]\n",
    "animal2 = [0,1,1]\n",
    "animal3 = [1,1,0]\n",
    "animal4 = [0,1,1]\n",
    "animal5 = [1,0,1]\n",
    "animal6 = [1,1,1]\n",
    "\n",
    "# nada a ver com os de cima\n",
    "\n",
    "treino_x = [animal1,animal2,animal3,animal4,animal5,animal6]\n",
    "treino_y = [1,1,1,0,0,0] #0=cachorro 1=porco"
   ]
  },
  {
   "cell_type": "code",
   "execution_count": 17,
   "id": "7a97e96e",
   "metadata": {},
   "outputs": [
    {
     "data": {
      "text/plain": [
       "LinearSVC()"
      ]
     },
     "execution_count": 17,
     "metadata": {},
     "output_type": "execute_result"
    }
   ],
   "source": [
    "from sklearn.svm import LinearSVC\n",
    "\n",
    "modelo = LinearSVC()\n",
    "modelo.fit(treino_x, treino_y)"
   ]
  },
  {
   "cell_type": "code",
   "execution_count": 4,
   "id": "43e88837",
   "metadata": {},
   "outputs": [
    {
     "data": {
      "text/plain": [
       "array([0])"
      ]
     },
     "execution_count": 4,
     "metadata": {},
     "output_type": "execute_result"
    }
   ],
   "source": [
    "animal_misterioso = [1,1,1]\n",
    "modelo.predict([animal_misterioso])"
   ]
  },
  {
   "cell_type": "code",
   "execution_count": 19,
   "id": "45a6aac0",
   "metadata": {},
   "outputs": [],
   "source": [
    "# ani1 = [0,0,0]\n",
    "# ani2 = [0,0,1]\n",
    "# ani3 = [0,1,0]\n",
    "# ani4 = [1,0,0]\n",
    "# ani5 = [1,0,1]\n",
    "ani1 = [1,1,1]\n",
    "ani2 = [1,1,0]\n",
    "ani3 = [0,1,1]\n",
    "\n",
    "# teste_x = [ani1, ani2, ani3, ani4, ani5, ani6, ani7]\n",
    "teste_x = [ani1, ani2, ani3]\n",
    "teste_y = [0,1,1]"
   ]
  },
  {
   "cell_type": "code",
   "execution_count": 20,
   "id": "db027c59",
   "metadata": {},
   "outputs": [
    {
     "data": {
      "text/plain": [
       "array([0, 1, 0])"
      ]
     },
     "execution_count": 20,
     "metadata": {},
     "output_type": "execute_result"
    }
   ],
   "source": [
    "previsoes = modelo.predict(teste_x)\n",
    "previsoes"
   ]
  },
  {
   "cell_type": "code",
   "execution_count": 22,
   "id": "936281ee",
   "metadata": {},
   "outputs": [
    {
     "data": {
      "text/plain": [
       "66.66666666666666"
      ]
     },
     "execution_count": 22,
     "metadata": {},
     "output_type": "execute_result"
    }
   ],
   "source": [
    "from sklearn.metrics import accuracy_score #taxa de acerto / accuracy\n",
    "accuracy_score(teste_y, previsoes) * 100"
   ]
  },
  {
   "cell_type": "code",
   "execution_count": null,
   "id": "6fb8441d",
   "metadata": {},
   "outputs": [],
   "source": []
  }
 ],
 "metadata": {
  "kernelspec": {
   "display_name": "Python 3",
   "language": "python",
   "name": "python3"
  },
  "language_info": {
   "codemirror_mode": {
    "name": "ipython",
    "version": 3
   },
   "file_extension": ".py",
   "mimetype": "text/x-python",
   "name": "python",
   "nbconvert_exporter": "python",
   "pygments_lexer": "ipython3",
   "version": "3.8.8"
  }
 },
 "nbformat": 4,
 "nbformat_minor": 5
}
